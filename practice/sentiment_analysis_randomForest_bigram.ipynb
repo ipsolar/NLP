{
 "cells": [
  {
   "cell_type": "code",
   "execution_count": 65,
   "metadata": {
    "collapsed": false
   },
   "outputs": [],
   "source": [
    "import numpy as np\n",
    "import pandas as pd\n",
    "import re\n",
    "\n",
    "from sklearn.feature_extraction.text import TfidfVectorizer\n",
    "from sklearn.model_selection import train_test_split\n",
    "from sklearn.ensemble import RandomForestClassifier\n",
    "from sklearn.preprocessing import LabelEncoder\n",
    "from sklearn.metrics import confusion_matrix, accuracy_score\n",
    "from sklearn.feature_selection import SelectPercentile, chi2"
   ]
  },
  {
   "cell_type": "code",
   "execution_count": 46,
   "metadata": {
    "collapsed": false
   },
   "outputs": [
    {
     "name": "stderr",
     "output_type": "stream",
     "text": [
      "b'Skipping line 8836: expected 4 fields, saw 5\\n'\n",
      "b'Skipping line 535882: expected 4 fields, saw 7\\n'\n"
     ]
    }
   ],
   "source": [
    "data = pd.read_csv('../data/Sentiment Analysis Dataset.csv', \n",
    "                   sep=',', \n",
    "                   error_bad_lines=False)"
   ]
  },
  {
   "cell_type": "code",
   "execution_count": 94,
   "metadata": {
    "collapsed": false
   },
   "outputs": [
    {
     "data": {
      "text/html": [
       "<div>\n",
       "<table border=\"1\" class=\"dataframe\">\n",
       "  <thead>\n",
       "    <tr style=\"text-align: right;\">\n",
       "      <th></th>\n",
       "      <th>ItemID</th>\n",
       "      <th>Sentiment</th>\n",
       "      <th>SentimentSource</th>\n",
       "      <th>SentimentText</th>\n",
       "    </tr>\n",
       "  </thead>\n",
       "  <tbody>\n",
       "    <tr>\n",
       "      <th>1127340</th>\n",
       "      <td>1127356</td>\n",
       "      <td>1</td>\n",
       "      <td>Sentiment140</td>\n",
       "      <td>ohmishka i thought it was such a great idea to...</td>\n",
       "    </tr>\n",
       "    <tr>\n",
       "      <th>768481</th>\n",
       "      <td>768497</td>\n",
       "      <td>1</td>\n",
       "      <td>Sentiment140</td>\n",
       "      <td>good morning putting a colour in my hair and l...</td>\n",
       "    </tr>\n",
       "    <tr>\n",
       "      <th>152078</th>\n",
       "      <td>152091</td>\n",
       "      <td>1</td>\n",
       "      <td>Sentiment140</td>\n",
       "      <td>erikveld what song are you moving to le musiqu...</td>\n",
       "    </tr>\n",
       "    <tr>\n",
       "      <th>579422</th>\n",
       "      <td>579438</td>\n",
       "      <td>0</td>\n",
       "      <td>Sentiment140</td>\n",
       "      <td>alex_levin haha i know right</td>\n",
       "    </tr>\n",
       "    <tr>\n",
       "      <th>1445253</th>\n",
       "      <td>1445269</td>\n",
       "      <td>1</td>\n",
       "      <td>Sentiment140</td>\n",
       "      <td>i love all left outs video blogs    check em o...</td>\n",
       "    </tr>\n",
       "    <tr>\n",
       "      <th>1543644</th>\n",
       "      <td>1543660</td>\n",
       "      <td>0</td>\n",
       "      <td>Sentiment140</td>\n",
       "      <td>that was a miserable rg final poor dinaraendin...</td>\n",
       "    </tr>\n",
       "    <tr>\n",
       "      <th>1026358</th>\n",
       "      <td>1026374</td>\n",
       "      <td>1</td>\n",
       "      <td>Sentiment140</td>\n",
       "      <td>my theme for ff is man candy avatars from my f...</td>\n",
       "    </tr>\n",
       "    <tr>\n",
       "      <th>359226</th>\n",
       "      <td>359239</td>\n",
       "      <td>1</td>\n",
       "      <td>Sentiment140</td>\n",
       "      <td>mia_r simalves posted them all on anoops fb fa...</td>\n",
       "    </tr>\n",
       "    <tr>\n",
       "      <th>272029</th>\n",
       "      <td>272042</td>\n",
       "      <td>1</td>\n",
       "      <td>Sentiment140</td>\n",
       "      <td>jessylou22 yay happy for her  lt3</td>\n",
       "    </tr>\n",
       "    <tr>\n",
       "      <th>536578</th>\n",
       "      <td>536594</td>\n",
       "      <td>0</td>\n",
       "      <td>Sentiment140</td>\n",
       "      <td>inaperfectworld there wouldnt be racism  these...</td>\n",
       "    </tr>\n",
       "  </tbody>\n",
       "</table>\n",
       "</div>"
      ],
      "text/plain": [
       "          ItemID  Sentiment SentimentSource  \\\n",
       "1127340  1127356          1    Sentiment140   \n",
       "768481    768497          1    Sentiment140   \n",
       "152078    152091          1    Sentiment140   \n",
       "579422    579438          0    Sentiment140   \n",
       "1445253  1445269          1    Sentiment140   \n",
       "1543644  1543660          0    Sentiment140   \n",
       "1026358  1026374          1    Sentiment140   \n",
       "359226    359239          1    Sentiment140   \n",
       "272029    272042          1    Sentiment140   \n",
       "536578    536594          0    Sentiment140   \n",
       "\n",
       "                                             SentimentText  \n",
       "1127340  ohmishka i thought it was such a great idea to...  \n",
       "768481   good morning putting a colour in my hair and l...  \n",
       "152078   erikveld what song are you moving to le musiqu...  \n",
       "579422                       alex_levin haha i know right   \n",
       "1445253  i love all left outs video blogs    check em o...  \n",
       "1543644  that was a miserable rg final poor dinaraendin...  \n",
       "1026358  my theme for ff is man candy avatars from my f...  \n",
       "359226   mia_r simalves posted them all on anoops fb fa...  \n",
       "272029                   jessylou22 yay happy for her  lt3  \n",
       "536578   inaperfectworld there wouldnt be racism  these...  "
      ]
     },
     "execution_count": 94,
     "metadata": {},
     "output_type": "execute_result"
    }
   ],
   "source": [
    "data.sample(10)"
   ]
  },
  {
   "cell_type": "code",
   "execution_count": 48,
   "metadata": {
    "collapsed": true
   },
   "outputs": [],
   "source": [
    "def clean_text(df, col):\n",
    "    df[col] = df[col].str.lower()\n",
    "    df[col] = df[col].str.replace(r'[^\\w\\s]', '')\n",
    "    ## to be added\n",
    "    # stemming, lemmetizing\n",
    "    # twitter/known entity replacement\n",
    "    # spelling correction ???"
   ]
  },
  {
   "cell_type": "code",
   "execution_count": 49,
   "metadata": {
    "collapsed": true
   },
   "outputs": [],
   "source": [
    "clean_text(data, 'SentimentText')"
   ]
  },
  {
   "cell_type": "code",
   "execution_count": 95,
   "metadata": {
    "collapsed": false
   },
   "outputs": [
    {
     "data": {
      "text/html": [
       "<div>\n",
       "<table border=\"1\" class=\"dataframe\">\n",
       "  <thead>\n",
       "    <tr style=\"text-align: right;\">\n",
       "      <th></th>\n",
       "      <th>ItemID</th>\n",
       "      <th>Sentiment</th>\n",
       "      <th>SentimentSource</th>\n",
       "      <th>SentimentText</th>\n",
       "    </tr>\n",
       "  </thead>\n",
       "  <tbody>\n",
       "    <tr>\n",
       "      <th>1510635</th>\n",
       "      <td>1510651</td>\n",
       "      <td>0</td>\n",
       "      <td>Sentiment140</td>\n",
       "      <td>officially i believe i am perhaps the bordest ...</td>\n",
       "    </tr>\n",
       "    <tr>\n",
       "      <th>1304240</th>\n",
       "      <td>1304256</td>\n",
       "      <td>0</td>\n",
       "      <td>Sentiment140</td>\n",
       "      <td>yeah i definately did</td>\n",
       "    </tr>\n",
       "    <tr>\n",
       "      <th>747870</th>\n",
       "      <td>747886</td>\n",
       "      <td>1</td>\n",
       "      <td>Sentiment140</td>\n",
       "      <td>getting ready for e3 625pm  httpxboxcom micros...</td>\n",
       "    </tr>\n",
       "    <tr>\n",
       "      <th>641870</th>\n",
       "      <td>641886</td>\n",
       "      <td>0</td>\n",
       "      <td>Sentiment140</td>\n",
       "      <td>benjicajess i know but u aint in peeenang</td>\n",
       "    </tr>\n",
       "    <tr>\n",
       "      <th>1488554</th>\n",
       "      <td>1488570</td>\n",
       "      <td>0</td>\n",
       "      <td>Sentiment140</td>\n",
       "      <td>listening to careless whispers missing my sbfs</td>\n",
       "    </tr>\n",
       "    <tr>\n",
       "      <th>222560</th>\n",
       "      <td>222573</td>\n",
       "      <td>0</td>\n",
       "      <td>Sentiment140</td>\n",
       "      <td>jessicaheintz thats not good   good luck though</td>\n",
       "    </tr>\n",
       "    <tr>\n",
       "      <th>129242</th>\n",
       "      <td>129255</td>\n",
       "      <td>0</td>\n",
       "      <td>Sentiment140</td>\n",
       "      <td>chevale my internet is being a  again wtf i th...</td>\n",
       "    </tr>\n",
       "    <tr>\n",
       "      <th>976411</th>\n",
       "      <td>976427</td>\n",
       "      <td>1</td>\n",
       "      <td>Sentiment140</td>\n",
       "      <td>lbergz i love la cantera its a nice shopping a...</td>\n",
       "    </tr>\n",
       "    <tr>\n",
       "      <th>649850</th>\n",
       "      <td>649866</td>\n",
       "      <td>1</td>\n",
       "      <td>Sentiment140</td>\n",
       "      <td>enegizer rabbit mode   keep going and going an...</td>\n",
       "    </tr>\n",
       "    <tr>\n",
       "      <th>884322</th>\n",
       "      <td>884338</td>\n",
       "      <td>0</td>\n",
       "      <td>Sentiment140</td>\n",
       "      <td>i just wanted to saysome people really freakin...</td>\n",
       "    </tr>\n",
       "  </tbody>\n",
       "</table>\n",
       "</div>"
      ],
      "text/plain": [
       "          ItemID  Sentiment SentimentSource  \\\n",
       "1510635  1510651          0    Sentiment140   \n",
       "1304240  1304256          0    Sentiment140   \n",
       "747870    747886          1    Sentiment140   \n",
       "641870    641886          0    Sentiment140   \n",
       "1488554  1488570          0    Sentiment140   \n",
       "222560    222573          0    Sentiment140   \n",
       "129242    129255          0    Sentiment140   \n",
       "976411    976427          1    Sentiment140   \n",
       "649850    649866          1    Sentiment140   \n",
       "884322    884338          0    Sentiment140   \n",
       "\n",
       "                                             SentimentText  \n",
       "1510635  officially i believe i am perhaps the bordest ...  \n",
       "1304240                             yeah i definately did   \n",
       "747870   getting ready for e3 625pm  httpxboxcom micros...  \n",
       "641870          benjicajess i know but u aint in peeenang   \n",
       "1488554    listening to careless whispers missing my sbfs   \n",
       "222560     jessicaheintz thats not good   good luck though  \n",
       "129242   chevale my internet is being a  again wtf i th...  \n",
       "976411   lbergz i love la cantera its a nice shopping a...  \n",
       "649850   enegizer rabbit mode   keep going and going an...  \n",
       "884322   i just wanted to saysome people really freakin...  "
      ]
     },
     "execution_count": 95,
     "metadata": {},
     "output_type": "execute_result"
    }
   ],
   "source": [
    "data.sample(10)"
   ]
  },
  {
   "cell_type": "code",
   "execution_count": 88,
   "metadata": {
    "collapsed": false
   },
   "outputs": [
    {
     "data": {
      "text/plain": [
       "1    790177\n",
       "0    788435\n",
       "Name: Sentiment, dtype: int64"
      ]
     },
     "execution_count": 88,
     "metadata": {},
     "output_type": "execute_result"
    }
   ],
   "source": [
    "data['Sentiment'].value_counts()"
   ]
  },
  {
   "cell_type": "code",
   "execution_count": 51,
   "metadata": {
    "collapsed": false
   },
   "outputs": [],
   "source": [
    "le = LabelEncoder()\n",
    "y = le.fit_transform(data['Sentiment'])"
   ]
  },
  {
   "cell_type": "code",
   "execution_count": 52,
   "metadata": {
    "collapsed": false
   },
   "outputs": [],
   "source": [
    "x_train, x_test, y_train, y_test = train_test_split(data['SentimentText'], y)"
   ]
  },
  {
   "cell_type": "code",
   "execution_count": 53,
   "metadata": {
    "collapsed": false
   },
   "outputs": [
    {
     "name": "stdout",
     "output_type": "stream",
     "text": [
      "CPU times: user 1min 45s, sys: 832 ms, total: 1min 46s\n",
      "Wall time: 1min 47s\n"
     ]
    }
   ],
   "source": [
    "%%time\n",
    "vectorizer = TfidfVectorizer(max_df=0.5,\n",
    "                             min_df=1000,\n",
    "                             analyzer=u'word', \n",
    "                             ngram_range=(1, 2),\n",
    "                             max_features=10000,\n",
    "                             stop_words='english')\n",
    "vectorizer.fit(x_train)\n",
    "x_train_vec = vectorizer.transform(x_train)"
   ]
  },
  {
   "cell_type": "code",
   "execution_count": 86,
   "metadata": {
    "collapsed": true
   },
   "outputs": [],
   "source": [
    "### add senti features and metadata to  feature vectors\n",
    "### include topic\n",
    "### select features for unigram and bigram separately"
   ]
  },
  {
   "cell_type": "code",
   "execution_count": 54,
   "metadata": {
    "collapsed": false
   },
   "outputs": [
    {
     "data": {
      "text/plain": [
       "(1183959, 1152)"
      ]
     },
     "execution_count": 54,
     "metadata": {},
     "output_type": "execute_result"
    }
   ],
   "source": [
    "x_train_vec.shape"
   ]
  },
  {
   "cell_type": "code",
   "execution_count": 55,
   "metadata": {
    "collapsed": false
   },
   "outputs": [
    {
     "name": "stdout",
     "output_type": "stream",
     "text": [
      "CPU times: user 364 ms, sys: 0 ns, total: 364 ms\n",
      "Wall time: 363 ms\n"
     ]
    }
   ],
   "source": [
    "%%time\n",
    "fs = SelectPercentile(chi2, 10)\n",
    "fs.fit(x_train_vec, y_train)\n",
    "x_train_vec_sel = fs.transform(x_train_vec)"
   ]
  },
  {
   "cell_type": "code",
   "execution_count": 56,
   "metadata": {
    "collapsed": false
   },
   "outputs": [
    {
     "data": {
      "text/plain": [
       "(1183959, 116)"
      ]
     },
     "execution_count": 56,
     "metadata": {},
     "output_type": "execute_result"
    }
   ],
   "source": [
    "x_train_vec_sel.shape"
   ]
  },
  {
   "cell_type": "code",
   "execution_count": 89,
   "metadata": {
    "collapsed": true
   },
   "outputs": [],
   "source": [
    "rfc = RandomForestClassifier(n_estimators=100,\n",
    "                             max_depth=None,\n",
    "                             min_samples_leaf=20,\n",
    "                             class_weight='balanced',\n",
    "                             n_jobs=-1)"
   ]
  },
  {
   "cell_type": "code",
   "execution_count": 90,
   "metadata": {
    "collapsed": false
   },
   "outputs": [
    {
     "name": "stdout",
     "output_type": "stream",
     "text": [
      "CPU times: user 17min 9s, sys: 6.71 s, total: 17min 16s\n",
      "Wall time: 7min 33s\n"
     ]
    },
    {
     "data": {
      "text/plain": [
       "RandomForestClassifier(bootstrap=True, class_weight='balanced',\n",
       "            criterion='gini', max_depth=None, max_features='auto',\n",
       "            max_leaf_nodes=None, min_impurity_split=1e-07,\n",
       "            min_samples_leaf=20, min_samples_split=2,\n",
       "            min_weight_fraction_leaf=0.0, n_estimators=100, n_jobs=-1,\n",
       "            oob_score=False, random_state=None, verbose=0,\n",
       "            warm_start=False)"
      ]
     },
     "execution_count": 90,
     "metadata": {},
     "output_type": "execute_result"
    }
   ],
   "source": [
    "%%time\n",
    "rfc.fit(x_train_vec_sel, y_train)"
   ]
  },
  {
   "cell_type": "code",
   "execution_count": 91,
   "metadata": {
    "collapsed": false
   },
   "outputs": [
    {
     "name": "stdout",
     "output_type": "stream",
     "text": [
      "CPU times: user 23.3 s, sys: 100 ms, total: 23.4 s\n",
      "Wall time: 15.3 s\n"
     ]
    }
   ],
   "source": [
    "%%time\n",
    "pred = rfc.predict(fs.transform(vectorizer.transform(x_test)))"
   ]
  },
  {
   "cell_type": "code",
   "execution_count": 92,
   "metadata": {
    "collapsed": false
   },
   "outputs": [
    {
     "data": {
      "text/plain": [
       "array([[107301,  89799],\n",
       "       [ 33606, 163947]])"
      ]
     },
     "execution_count": 92,
     "metadata": {},
     "output_type": "execute_result"
    }
   ],
   "source": [
    "confusion_matrix(y_test, pred)"
   ]
  },
  {
   "cell_type": "code",
   "execution_count": 93,
   "metadata": {
    "collapsed": false
   },
   "outputs": [
    {
     "data": {
      "text/plain": [
       "69.0"
      ]
     },
     "execution_count": 93,
     "metadata": {},
     "output_type": "execute_result"
    }
   ],
   "source": [
    "(accuracy_score(y_test, pred) * 100).round()"
   ]
  },
  {
   "cell_type": "code",
   "execution_count": null,
   "metadata": {
    "collapsed": true
   },
   "outputs": [],
   "source": []
  }
 ],
 "metadata": {
  "kernelspec": {
   "display_name": "Python 3",
   "language": "python",
   "name": "python3"
  },
  "language_info": {
   "codemirror_mode": {
    "name": "ipython",
    "version": 3
   },
   "file_extension": ".py",
   "mimetype": "text/x-python",
   "name": "python",
   "nbconvert_exporter": "python",
   "pygments_lexer": "ipython3",
   "version": "3.6.0"
  }
 },
 "nbformat": 4,
 "nbformat_minor": 2
}
